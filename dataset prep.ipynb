{
 "cells": [
  {
   "cell_type": "code",
   "execution_count": 20,
   "id": "initial_id",
   "metadata": {
    "collapsed": true,
    "ExecuteTime": {
     "end_time": "2024-03-12T17:35:27.812823Z",
     "start_time": "2024-03-12T17:35:27.746716Z"
    }
   },
   "outputs": [
    {
     "data": {
      "text/plain": "                                               utterance  \\\n0      Create a function to calculate the sum of a se...   \n1      Generate a Python code for crawling a website ...   \n2      Create a Python list comprehension to get the ...   \n3      Generate a python script to perform this actio...   \n4      Write a python script to generates random numb...   \n...                                                  ...   \n18607  Generate a loop in Python which iterates throu...   \n18608  Can you design a function in Python to sort a ...   \n18609  Generate a Python function to search an array ...   \n18610  Develop an HTTP API in Python to retrieve the ...   \n18611  Create a classification algorithm in Python to...   \n\n                                                  output  \n0      # Python code\\ndef sum_sequence(sequence):\\n  ...  \n1      import requests\\nimport re\\n\\ndef crawl_websit...  \n2                     [x*x for x in [1, 2, 3, 5, 8, 13]]  \n3      def remove_duplicates(string): \\n    result = ...  \n4      def generate_random_divisible_number():\\n    i...  \n...                                                  ...  \n18607     for value in list_of_values:\\n    print(value)  \n18608  def sort_tuple(tuples):\\n    # sort by 2nd ite...  \n18609  def search(array, target):\\n # Iterate over ar...  \n18610  import requests\\nfrom bs4 import BeautifulSoup...  \n18611  # Import Python libraries\\nimport numpy as np\\...  \n\n[18612 rows x 2 columns]",
      "text/html": "<div>\n<style scoped>\n    .dataframe tbody tr th:only-of-type {\n        vertical-align: middle;\n    }\n\n    .dataframe tbody tr th {\n        vertical-align: top;\n    }\n\n    .dataframe thead th {\n        text-align: right;\n    }\n</style>\n<table border=\"1\" class=\"dataframe\">\n  <thead>\n    <tr style=\"text-align: right;\">\n      <th></th>\n      <th>utterance</th>\n      <th>output</th>\n    </tr>\n  </thead>\n  <tbody>\n    <tr>\n      <th>0</th>\n      <td>Create a function to calculate the sum of a se...</td>\n      <td># Python code\\ndef sum_sequence(sequence):\\n  ...</td>\n    </tr>\n    <tr>\n      <th>1</th>\n      <td>Generate a Python code for crawling a website ...</td>\n      <td>import requests\\nimport re\\n\\ndef crawl_websit...</td>\n    </tr>\n    <tr>\n      <th>2</th>\n      <td>Create a Python list comprehension to get the ...</td>\n      <td>[x*x for x in [1, 2, 3, 5, 8, 13]]</td>\n    </tr>\n    <tr>\n      <th>3</th>\n      <td>Generate a python script to perform this actio...</td>\n      <td>def remove_duplicates(string): \\n    result = ...</td>\n    </tr>\n    <tr>\n      <th>4</th>\n      <td>Write a python script to generates random numb...</td>\n      <td>def generate_random_divisible_number():\\n    i...</td>\n    </tr>\n    <tr>\n      <th>...</th>\n      <td>...</td>\n      <td>...</td>\n    </tr>\n    <tr>\n      <th>18607</th>\n      <td>Generate a loop in Python which iterates throu...</td>\n      <td>for value in list_of_values:\\n    print(value)</td>\n    </tr>\n    <tr>\n      <th>18608</th>\n      <td>Can you design a function in Python to sort a ...</td>\n      <td>def sort_tuple(tuples):\\n    # sort by 2nd ite...</td>\n    </tr>\n    <tr>\n      <th>18609</th>\n      <td>Generate a Python function to search an array ...</td>\n      <td>def search(array, target):\\n # Iterate over ar...</td>\n    </tr>\n    <tr>\n      <th>18610</th>\n      <td>Develop an HTTP API in Python to retrieve the ...</td>\n      <td>import requests\\nfrom bs4 import BeautifulSoup...</td>\n    </tr>\n    <tr>\n      <th>18611</th>\n      <td>Create a classification algorithm in Python to...</td>\n      <td># Import Python libraries\\nimport numpy as np\\...</td>\n    </tr>\n  </tbody>\n</table>\n<p>18612 rows × 2 columns</p>\n</div>"
     },
     "execution_count": 20,
     "metadata": {},
     "output_type": "execute_result"
    }
   ],
   "source": [
    "import pandas as pd\n",
    "\n",
    "# Load your dataset\n",
    "df = pd.read_parquet('train-00000-of-00001-8b6e212f3e1ece96.parquet')\n",
    "\n",
    "# Concatenate the 'instruction' and 'input' columns to form the 'utterance' column\n",
    "df['utterance'] = df['instruction'] + ' ' + df['input']\n",
    "\n",
    "# Now, 'utterance' contains the combined text, and 'output' contains the code snippets\n",
    "# You can use these two columns for your training loop\n",
    "\n",
    "# Display the first few rows to verify the new column\n",
    "df[['utterance', 'output']]"
   ]
  },
  {
   "cell_type": "code",
   "outputs": [
    {
     "data": {
      "text/plain": "18612"
     },
     "execution_count": 22,
     "metadata": {},
     "output_type": "execute_result"
    }
   ],
   "source": [
    "len(df)"
   ],
   "metadata": {
    "collapsed": false,
    "ExecuteTime": {
     "end_time": "2024-03-12T17:36:30.041116Z",
     "start_time": "2024-03-12T17:36:30.037467Z"
    }
   },
   "id": "ad2f9e34f066f4b7",
   "execution_count": 22
  },
  {
   "cell_type": "code",
   "outputs": [],
   "source": [
    "df.to_csv('dataset_instruct.csv')"
   ],
   "metadata": {
    "collapsed": false,
    "ExecuteTime": {
     "end_time": "2024-02-19T11:59:33.912607Z",
     "start_time": "2024-02-19T11:59:33.569658Z"
    }
   },
   "id": "da9930abb8ef1464",
   "execution_count": 4
  },
  {
   "cell_type": "code",
   "outputs": [],
   "source": [
    "# Define the path to your text file\n",
    "file_path = 'PythonSnippets.txt'\n",
    "\n",
    "# Use a context manager to open and read the file safely\n",
    "with open(file_path, 'r') as file:\n",
    "    # Read the entire file content into a single string\n",
    "    file_contents = file.read()\n",
    "\n",
    "# Split the content based on double newline characters\n",
    "sections = file_contents.split('\\n\\n')\n",
    "\n",
    "# Now 'sections' is a list where each element is a part of the text separated by double newlines\n",
    "unique_sections = set(file_contents.split('\\n\\n'))\n"
   ],
   "metadata": {
    "collapsed": false,
    "ExecuteTime": {
     "end_time": "2024-03-10T23:49:58.311332Z",
     "start_time": "2024-03-10T23:49:58.061355Z"
    }
   },
   "id": "728a177de4230631",
   "execution_count": 8
  },
  {
   "cell_type": "code",
   "outputs": [
    {
     "name": "stdout",
     "output_type": "stream",
     "text": [
      "Average length of each section: 63.446224480093456 characters\n"
     ]
    }
   ],
   "source": [
    "total_length = 0\n",
    "\n",
    "# Loop through each section to calculate its length and add it to the total\n",
    "for section in unique_sections:\n",
    "    total_length += len(section)\n",
    "\n",
    "# Calculate the average length. Use 'max' to avoid division by zero if there are no sections.\n",
    "average_length = total_length / max(len(unique_sections), 1)\n",
    "\n",
    "print(f'Average length of each section: {average_length} characters')"
   ],
   "metadata": {
    "collapsed": false,
    "ExecuteTime": {
     "end_time": "2024-03-10T23:51:36.250225Z",
     "start_time": "2024-03-10T23:51:36.247202Z"
    }
   },
   "id": "9cee1038f6884ce",
   "execution_count": 11
  },
  {
   "cell_type": "code",
   "outputs": [
    {
     "data": {
      "text/plain": "368095"
     },
     "execution_count": 12,
     "metadata": {},
     "output_type": "execute_result"
    }
   ],
   "source": [
    "len(unique_sections)"
   ],
   "metadata": {
    "collapsed": false,
    "ExecuteTime": {
     "end_time": "2024-03-10T23:51:38.731681Z",
     "start_time": "2024-03-10T23:51:38.726001Z"
    }
   },
   "id": "e4fb567f0fd41c0f",
   "execution_count": 12
  },
  {
   "cell_type": "code",
   "outputs": [],
   "source": [
    "import pandas as pd\n",
    "\n",
    "# Turn the list into a DataFrame\n",
    "snippets_df = pd.DataFrame(unique_sections, columns=['Snippet'])"
   ],
   "metadata": {
    "collapsed": false,
    "ExecuteTime": {
     "end_time": "2024-03-10T23:52:42.628283Z",
     "start_time": "2024-03-10T23:52:40.511640Z"
    }
   },
   "id": "328ee6a2e0dd5761",
   "execution_count": 13
  },
  {
   "cell_type": "code",
   "outputs": [],
   "source": [
    "snippets_df.to_csv('python_snippets.csv', index=False)"
   ],
   "metadata": {
    "collapsed": false,
    "ExecuteTime": {
     "end_time": "2024-03-11T11:15:53.533364Z",
     "start_time": "2024-03-11T11:15:53.052572Z"
    }
   },
   "id": "dd269e0a61aee2fe",
   "execution_count": 15
  },
  {
   "cell_type": "code",
   "outputs": [],
   "source": [],
   "metadata": {
    "collapsed": false
   },
   "id": "b0318a06c68b6700"
  },
  {
   "cell_type": "code",
   "outputs": [
    {
     "data": {
      "text/plain": "                                                  Snippet  Length\n0       def __call__(self, *args, **kwargs):\\n    if s...      84\n1                           class Good(object):\\n    pass      28\n2       cache[object_to_cache_as_string] = object_to_c...      50\n3       if not request.is_ajax():\\n    request.session...      68\n4       rflat = scipy.array(r_coord.flat)\\ntflat = sci...     323\n...                                                   ...     ...\n366512                                    plt.xlabel('Y')      15\n366513        def get(self, key, default=None):\\n    pass      42\n366514                  logger.info('something happened')      33\n366515                      url = 'http://www.google.com'      29\n366516                             ax.set_zlim3d([-5, 5])      22\n\n[366517 rows x 2 columns]",
      "text/html": "<div>\n<style scoped>\n    .dataframe tbody tr th:only-of-type {\n        vertical-align: middle;\n    }\n\n    .dataframe tbody tr th {\n        vertical-align: top;\n    }\n\n    .dataframe thead th {\n        text-align: right;\n    }\n</style>\n<table border=\"1\" class=\"dataframe\">\n  <thead>\n    <tr style=\"text-align: right;\">\n      <th></th>\n      <th>Snippet</th>\n      <th>Length</th>\n    </tr>\n  </thead>\n  <tbody>\n    <tr>\n      <th>0</th>\n      <td>def __call__(self, *args, **kwargs):\\n    if s...</td>\n      <td>84</td>\n    </tr>\n    <tr>\n      <th>1</th>\n      <td>class Good(object):\\n    pass</td>\n      <td>28</td>\n    </tr>\n    <tr>\n      <th>2</th>\n      <td>cache[object_to_cache_as_string] = object_to_c...</td>\n      <td>50</td>\n    </tr>\n    <tr>\n      <th>3</th>\n      <td>if not request.is_ajax():\\n    request.session...</td>\n      <td>68</td>\n    </tr>\n    <tr>\n      <th>4</th>\n      <td>rflat = scipy.array(r_coord.flat)\\ntflat = sci...</td>\n      <td>323</td>\n    </tr>\n    <tr>\n      <th>...</th>\n      <td>...</td>\n      <td>...</td>\n    </tr>\n    <tr>\n      <th>366512</th>\n      <td>plt.xlabel('Y')</td>\n      <td>15</td>\n    </tr>\n    <tr>\n      <th>366513</th>\n      <td>def get(self, key, default=None):\\n    pass</td>\n      <td>42</td>\n    </tr>\n    <tr>\n      <th>366514</th>\n      <td>logger.info('something happened')</td>\n      <td>33</td>\n    </tr>\n    <tr>\n      <th>366515</th>\n      <td>url = 'http://www.google.com'</td>\n      <td>29</td>\n    </tr>\n    <tr>\n      <th>366516</th>\n      <td>ax.set_zlim3d([-5, 5])</td>\n      <td>22</td>\n    </tr>\n  </tbody>\n</table>\n<p>366517 rows × 2 columns</p>\n</div>"
     },
     "execution_count": 16,
     "metadata": {},
     "output_type": "execute_result"
    }
   ],
   "source": [
    "import pandas as pd\n",
    "        \n",
    "filtered_python_snippets = pd.read_csv('filtered_python_snippets.csv')\n",
    "filtered_python_snippets"
   ],
   "metadata": {
    "collapsed": false,
    "ExecuteTime": {
     "end_time": "2024-03-11T14:02:17.274764Z",
     "start_time": "2024-03-11T14:02:17.016385Z"
    }
   },
   "id": "bc7f3ff96a6b5ec9",
   "execution_count": 16
  },
  {
   "cell_type": "code",
   "outputs": [],
   "source": [],
   "metadata": {
    "collapsed": false
   },
   "id": "5d06a68d6f210014"
  },
  {
   "cell_type": "code",
   "outputs": [
    {
     "data": {
      "text/plain": "       Unnamed: 0                                        instruction  \\\n0               0  Create a function to calculate the sum of a se...   \n1               1  Generate a Python code for crawling a website ...   \n2               2  Create a Python list comprehension to get the ...   \n3               3   Generate a python script to perform this action.   \n4               4  Write a python script to generates random numb...   \n...           ...                                                ...   \n14812       18604  Write a Python expression that returns the ele...   \n14813       18606  Generate a python program that tests a user's ...   \n14814       18607  Generate a loop in Python which iterates throu...   \n14815       18608  Can you design a function in Python to sort a ...   \n14816       18609  Generate a Python function to search an array ...   \n\n                                                   input  \\\n0                                        [1, 2, 3, 4, 5]   \n1      website: www.example.com \\ndata to crawl: phon...   \n2                                                    NaN   \n3      Given a string, remove all the consecutive dup...   \n4                                                    NaN   \n...                                                  ...   \n14812              [\"Apple\", \"Banana\", \"Cherry\", \"Date\"]   \n14813                                                NaN   \n14814                                                NaN   \n14815           tuples = [(\"b\", 0), (\"a\", 1), (\"c\", -1)]   \n14816            Array = [1, 5, 10, 15, 20], Target = 15   \n\n                                                  output  \\\n0      # Python code\\ndef sum_sequence(sequence):\\n  ...   \n1      import requests\\nimport re\\n\\ndef crawl_websit...   \n2                     [x*x for x in [1, 2, 3, 5, 8, 13]]   \n3      def remove_duplicates(string): \\n    result = ...   \n4      def generate_random_divisible_number():\\n    i...   \n...                                                  ...   \n14812                         list[2] # returns \"Cherry\"   \n14813  def is_palindrome(inp):\\n    rev_inp = inp[::-...   \n14814     for value in list_of_values:\\n    print(value)   \n14815  def sort_tuple(tuples):\\n    # sort by 2nd ite...   \n14816  def search(array, target):\\n # Iterate over ar...   \n\n                                                  prompt  \\\n0      Below is an instruction that describes a task....   \n1      Below is an instruction that describes a task....   \n2      Below is an instruction that describes a task....   \n3      Below is an instruction that describes a task....   \n4      Below is an instruction that describes a task....   \n...                                                  ...   \n14812  Below is an instruction that describes a task....   \n14813  Below is an instruction that describes a task....   \n14814  Below is an instruction that describes a task....   \n14815  Below is an instruction that describes a task....   \n14816  Below is an instruction that describes a task....   \n\n                                               utterance  utterance_len  \\\n0      Create a function to calculate the sum of a se...             81   \n1      Generate a Python code for crawling a website ...            129   \n2      Create a Python list comprehension to get the ...             92   \n3      Generate a python script to perform this actio...            139   \n4      Write a python script to generates random numb...             91   \n...                                                  ...            ...   \n14812  Write a Python expression that returns the ele...            110   \n14813  Generate a python program that tests a user's ...             70   \n14814  Generate a loop in Python which iterates throu...             79   \n14815  Can you design a function in Python to sort a ...            140   \n14816  Generate a Python function to search an array ...            128   \n\n       output_len  \n0             102  \n1             295  \n2              34  \n3             238  \n4             295  \n...           ...  \n14812          26  \n14813         121  \n14814          45  \n14815         252  \n14816         365  \n\n[14817 rows x 8 columns]",
      "text/html": "<div>\n<style scoped>\n    .dataframe tbody tr th:only-of-type {\n        vertical-align: middle;\n    }\n\n    .dataframe tbody tr th {\n        vertical-align: top;\n    }\n\n    .dataframe thead th {\n        text-align: right;\n    }\n</style>\n<table border=\"1\" class=\"dataframe\">\n  <thead>\n    <tr style=\"text-align: right;\">\n      <th></th>\n      <th>Unnamed: 0</th>\n      <th>instruction</th>\n      <th>input</th>\n      <th>output</th>\n      <th>prompt</th>\n      <th>utterance</th>\n      <th>utterance_len</th>\n      <th>output_len</th>\n    </tr>\n  </thead>\n  <tbody>\n    <tr>\n      <th>0</th>\n      <td>0</td>\n      <td>Create a function to calculate the sum of a se...</td>\n      <td>[1, 2, 3, 4, 5]</td>\n      <td># Python code\\ndef sum_sequence(sequence):\\n  ...</td>\n      <td>Below is an instruction that describes a task....</td>\n      <td>Create a function to calculate the sum of a se...</td>\n      <td>81</td>\n      <td>102</td>\n    </tr>\n    <tr>\n      <th>1</th>\n      <td>1</td>\n      <td>Generate a Python code for crawling a website ...</td>\n      <td>website: www.example.com \\ndata to crawl: phon...</td>\n      <td>import requests\\nimport re\\n\\ndef crawl_websit...</td>\n      <td>Below is an instruction that describes a task....</td>\n      <td>Generate a Python code for crawling a website ...</td>\n      <td>129</td>\n      <td>295</td>\n    </tr>\n    <tr>\n      <th>2</th>\n      <td>2</td>\n      <td>Create a Python list comprehension to get the ...</td>\n      <td>NaN</td>\n      <td>[x*x for x in [1, 2, 3, 5, 8, 13]]</td>\n      <td>Below is an instruction that describes a task....</td>\n      <td>Create a Python list comprehension to get the ...</td>\n      <td>92</td>\n      <td>34</td>\n    </tr>\n    <tr>\n      <th>3</th>\n      <td>3</td>\n      <td>Generate a python script to perform this action.</td>\n      <td>Given a string, remove all the consecutive dup...</td>\n      <td>def remove_duplicates(string): \\n    result = ...</td>\n      <td>Below is an instruction that describes a task....</td>\n      <td>Generate a python script to perform this actio...</td>\n      <td>139</td>\n      <td>238</td>\n    </tr>\n    <tr>\n      <th>4</th>\n      <td>4</td>\n      <td>Write a python script to generates random numb...</td>\n      <td>NaN</td>\n      <td>def generate_random_divisible_number():\\n    i...</td>\n      <td>Below is an instruction that describes a task....</td>\n      <td>Write a python script to generates random numb...</td>\n      <td>91</td>\n      <td>295</td>\n    </tr>\n    <tr>\n      <th>...</th>\n      <td>...</td>\n      <td>...</td>\n      <td>...</td>\n      <td>...</td>\n      <td>...</td>\n      <td>...</td>\n      <td>...</td>\n      <td>...</td>\n    </tr>\n    <tr>\n      <th>14812</th>\n      <td>18604</td>\n      <td>Write a Python expression that returns the ele...</td>\n      <td>[\"Apple\", \"Banana\", \"Cherry\", \"Date\"]</td>\n      <td>list[2] # returns \"Cherry\"</td>\n      <td>Below is an instruction that describes a task....</td>\n      <td>Write a Python expression that returns the ele...</td>\n      <td>110</td>\n      <td>26</td>\n    </tr>\n    <tr>\n      <th>14813</th>\n      <td>18606</td>\n      <td>Generate a python program that tests a user's ...</td>\n      <td>NaN</td>\n      <td>def is_palindrome(inp):\\n    rev_inp = inp[::-...</td>\n      <td>Below is an instruction that describes a task....</td>\n      <td>Generate a python program that tests a user's ...</td>\n      <td>70</td>\n      <td>121</td>\n    </tr>\n    <tr>\n      <th>14814</th>\n      <td>18607</td>\n      <td>Generate a loop in Python which iterates throu...</td>\n      <td>NaN</td>\n      <td>for value in list_of_values:\\n    print(value)</td>\n      <td>Below is an instruction that describes a task....</td>\n      <td>Generate a loop in Python which iterates throu...</td>\n      <td>79</td>\n      <td>45</td>\n    </tr>\n    <tr>\n      <th>14815</th>\n      <td>18608</td>\n      <td>Can you design a function in Python to sort a ...</td>\n      <td>tuples = [(\"b\", 0), (\"a\", 1), (\"c\", -1)]</td>\n      <td>def sort_tuple(tuples):\\n    # sort by 2nd ite...</td>\n      <td>Below is an instruction that describes a task....</td>\n      <td>Can you design a function in Python to sort a ...</td>\n      <td>140</td>\n      <td>252</td>\n    </tr>\n    <tr>\n      <th>14816</th>\n      <td>18609</td>\n      <td>Generate a Python function to search an array ...</td>\n      <td>Array = [1, 5, 10, 15, 20], Target = 15</td>\n      <td>def search(array, target):\\n # Iterate over ar...</td>\n      <td>Below is an instruction that describes a task....</td>\n      <td>Generate a Python function to search an array ...</td>\n      <td>128</td>\n      <td>365</td>\n    </tr>\n  </tbody>\n</table>\n<p>14817 rows × 8 columns</p>\n</div>"
     },
     "execution_count": 19,
     "metadata": {},
     "output_type": "execute_result"
    }
   ],
   "source": [
    "import pandas as pd\n",
    "        \n",
    "filtered_dataset_short = pd.read_csv('filtered_dataset_short.csv')\n",
    "filtered_dataset_short"
   ],
   "metadata": {
    "collapsed": false,
    "ExecuteTime": {
     "end_time": "2024-03-12T17:33:55.047577Z",
     "start_time": "2024-03-12T17:33:54.906270Z"
    }
   },
   "id": "9bb58f42485b211d",
   "execution_count": 19
  },
  {
   "cell_type": "code",
   "outputs": [
    {
     "data": {
      "text/plain": "14817"
     },
     "execution_count": 21,
     "metadata": {},
     "output_type": "execute_result"
    }
   ],
   "source": [
    "len(filtered_dataset_short)"
   ],
   "metadata": {
    "collapsed": false,
    "ExecuteTime": {
     "end_time": "2024-03-12T17:36:12.298451Z",
     "start_time": "2024-03-12T17:36:12.291773Z"
    }
   },
   "id": "79b2a9b412e242c7",
   "execution_count": 21
  },
  {
   "cell_type": "code",
   "outputs": [],
   "source": [],
   "metadata": {
    "collapsed": false
   },
   "id": "11c1a0704f85f19f"
  }
 ],
 "metadata": {
  "kernelspec": {
   "display_name": "Python 3",
   "language": "python",
   "name": "python3"
  },
  "language_info": {
   "codemirror_mode": {
    "name": "ipython",
    "version": 2
   },
   "file_extension": ".py",
   "mimetype": "text/x-python",
   "name": "python",
   "nbconvert_exporter": "python",
   "pygments_lexer": "ipython2",
   "version": "2.7.6"
  }
 },
 "nbformat": 4,
 "nbformat_minor": 5
}
