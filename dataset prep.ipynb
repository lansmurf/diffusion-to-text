{
 "cells": [
  {
   "cell_type": "code",
   "execution_count": 3,
   "id": "initial_id",
   "metadata": {
    "collapsed": true,
    "ExecuteTime": {
     "end_time": "2024-02-18T19:28:43.091460Z",
     "start_time": "2024-02-18T19:28:43.020713Z"
    }
   },
   "outputs": [
    {
     "data": {
      "text/plain": "                                           utterance  \\\n0  Create a function to calculate the sum of a se...   \n1  Generate a Python code for crawling a website ...   \n2  Create a Python list comprehension to get the ...   \n3  Generate a python script to perform this actio...   \n4  Write a python script to generates random numb...   \n\n                                              output  \n0  # Python code\\ndef sum_sequence(sequence):\\n  ...  \n1  import requests\\nimport re\\n\\ndef crawl_websit...  \n2                 [x*x for x in [1, 2, 3, 5, 8, 13]]  \n3  def remove_duplicates(string): \\n    result = ...  \n4  def generate_random_divisible_number():\\n    i...  ",
      "text/html": "<div>\n<style scoped>\n    .dataframe tbody tr th:only-of-type {\n        vertical-align: middle;\n    }\n\n    .dataframe tbody tr th {\n        vertical-align: top;\n    }\n\n    .dataframe thead th {\n        text-align: right;\n    }\n</style>\n<table border=\"1\" class=\"dataframe\">\n  <thead>\n    <tr style=\"text-align: right;\">\n      <th></th>\n      <th>utterance</th>\n      <th>output</th>\n    </tr>\n  </thead>\n  <tbody>\n    <tr>\n      <th>0</th>\n      <td>Create a function to calculate the sum of a se...</td>\n      <td># Python code\\ndef sum_sequence(sequence):\\n  ...</td>\n    </tr>\n    <tr>\n      <th>1</th>\n      <td>Generate a Python code for crawling a website ...</td>\n      <td>import requests\\nimport re\\n\\ndef crawl_websit...</td>\n    </tr>\n    <tr>\n      <th>2</th>\n      <td>Create a Python list comprehension to get the ...</td>\n      <td>[x*x for x in [1, 2, 3, 5, 8, 13]]</td>\n    </tr>\n    <tr>\n      <th>3</th>\n      <td>Generate a python script to perform this actio...</td>\n      <td>def remove_duplicates(string): \\n    result = ...</td>\n    </tr>\n    <tr>\n      <th>4</th>\n      <td>Write a python script to generates random numb...</td>\n      <td>def generate_random_divisible_number():\\n    i...</td>\n    </tr>\n  </tbody>\n</table>\n</div>"
     },
     "execution_count": 3,
     "metadata": {},
     "output_type": "execute_result"
    }
   ],
   "source": [
    "import pandas as pd\n",
    "\n",
    "# Load your dataset\n",
    "df = pd.read_parquet('train-00000-of-00001-8b6e212f3e1ece96.parquet')\n",
    "\n",
    "# Concatenate the 'instruction' and 'input' columns to form the 'utterance' column\n",
    "df['utterance'] = df['instruction'] + ' ' + df['input']\n",
    "\n",
    "# Now, 'utterance' contains the combined text, and 'output' contains the code snippets\n",
    "# You can use these two columns for your training loop\n",
    "\n",
    "# Display the first few rows to verify the new column\n",
    "df[['utterance', 'output']].head()"
   ]
  },
  {
   "cell_type": "code",
   "outputs": [],
   "source": [
    "df.to_csv('dataset_instruct.csv')"
   ],
   "metadata": {
    "collapsed": false,
    "ExecuteTime": {
     "end_time": "2024-02-19T11:59:33.912607Z",
     "start_time": "2024-02-19T11:59:33.569658Z"
    }
   },
   "id": "da9930abb8ef1464",
   "execution_count": 4
  },
  {
   "cell_type": "code",
   "outputs": [],
   "source": [],
   "metadata": {
    "collapsed": false
   },
   "id": "728a177de4230631"
  }
 ],
 "metadata": {
  "kernelspec": {
   "display_name": "Python 3",
   "language": "python",
   "name": "python3"
  },
  "language_info": {
   "codemirror_mode": {
    "name": "ipython",
    "version": 2
   },
   "file_extension": ".py",
   "mimetype": "text/x-python",
   "name": "python",
   "nbconvert_exporter": "python",
   "pygments_lexer": "ipython2",
   "version": "2.7.6"
  }
 },
 "nbformat": 4,
 "nbformat_minor": 5
}
