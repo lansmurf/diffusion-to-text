{
 "cells": [
  {
   "cell_type": "code",
   "execution_count": 1,
   "id": "initial_id",
   "metadata": {
    "collapsed": true,
    "ExecuteTime": {
     "end_time": "2024-03-28T13:49:09.030338Z",
     "start_time": "2024-03-28T13:49:04.722116Z"
    }
   },
   "outputs": [],
   "source": [
    "import pandas as pd\n",
    "\n",
    "df = pd.read_json('v1.json', lines=True)"
   ]
  },
  {
   "cell_type": "code",
   "outputs": [
    {
     "data": {
      "text/plain": "                           added                   created  \\\n0       2023-04-25T05:52:44.882Z  2004-02-01T00:00:00.000Z   \n1       2023-04-25T05:53:21.884Z  2004-02-01T00:00:00.000Z   \n2       2023-04-25T05:53:29.511Z  2004-02-01T00:00:00.000Z   \n3       2023-04-25T05:54:10.370Z  2004-03-01T00:00:00.000Z   \n4       2023-04-25T05:54:13.314Z  1998-02-01T00:00:00.000Z   \n...                          ...                       ...   \n141833  2023-04-05T08:53:30.999Z      2019-04-20T20:48:38Z   \n141834  2023-04-05T08:53:30.999Z      2019-04-20T18:46:40Z   \n141835  2023-04-05T08:53:30.999Z      2019-04-20T05:10:41Z   \n141836  2023-04-05T08:53:30.999Z      2019-04-24T12:03:40Z   \n141837  2023-04-05T08:53:30.999Z      2019-04-26T15:00:00Z   \n\n                                              id  \\\n0       e95bdc3748368f8aff7e6f14e84e38ef0cec38e8   \n1       02c98cf97f31cf4e42f9cf9ebba879bb847ac8e3   \n2       042baa35a67a866347693ea501a82b1e252af646   \n3       61f0f8af384163a4db1ba02f8b04f6a9a16aa9df   \n4       e29fec239360b4cd0e4c3d599b4f035044759e5e   \n...                                          ...   \n141833          edf6b06ceb1870ba2c172d1941fc6ea0   \n141834          a8ff306987d72bbe14238b98922a7314   \n141835          a014a16c293bd53b0f18a36e4b88556e   \n141836          5c0333895103a64d76de2477bb05c986   \n141837          3b34c55ff285937295cca4cedbca8b35   \n\n                                                 metadata     source  \\\n0       {'gutenberg_metadata_available': True, 'issued...  gutenberg   \n1       {'gutenberg_metadata_available': True, 'issued...  gutenberg   \n2       {'gutenberg_metadata_available': True, 'issued...  gutenberg   \n3       {'gutenberg_metadata_available': True, 'issued...  gutenberg   \n4       {'gutenberg_metadata_available': True, 'issued...  gutenberg   \n...                                                   ...        ...   \n141833  {'lang': 'en', 'length': 258, 'provenance': 'c...         c4   \n141834  {'lang': 'en', 'length': 243, 'provenance': 'c...         c4   \n141835  {'lang': 'en', 'length': 38, 'provenance': 'c4...         c4   \n141836  {'lang': 'en', 'length': 52, 'provenance': 'c4...         c4   \n141837  {'lang': 'en', 'length': 145, 'provenance': 'c...         c4   \n\n                                                     text version  \n0       LABOR'S MARTYRS\\n\\n\\nHaymarket\\n1887\\n\\nSacco ...      v0  \n1       [Illustration: Front Cover]\\n\\n[Illustration]\\...      v0  \n2       THROUGH THE WALL\\n\\nBY\\n\\nCLEVELAND MOFFETT\\n\\...      v0  \n3       [Illustration]\\n\\n\\nSCIENTIFIC AMERICAN SUPPLE...      v0  \n4       Transcribed from the 1897 John Lane edition by...      v0  \n...                                                   ...     ...  \n141833  Larry H. Miller Toyota is proud to serve the S...      v0  \n141834  Building options. Multiple options can be comb...      v0  \n141835  Size of this preview: 800 × 520 pixels. Other ...      v0  \n141836  Jacopo - North Bondi,New South Wales : Graduat...      v0  \n141837  We provide an exceptional catering experience ...      v0  \n\n[141838 rows x 7 columns]",
      "text/html": "<div>\n<style scoped>\n    .dataframe tbody tr th:only-of-type {\n        vertical-align: middle;\n    }\n\n    .dataframe tbody tr th {\n        vertical-align: top;\n    }\n\n    .dataframe thead th {\n        text-align: right;\n    }\n</style>\n<table border=\"1\" class=\"dataframe\">\n  <thead>\n    <tr style=\"text-align: right;\">\n      <th></th>\n      <th>added</th>\n      <th>created</th>\n      <th>id</th>\n      <th>metadata</th>\n      <th>source</th>\n      <th>text</th>\n      <th>version</th>\n    </tr>\n  </thead>\n  <tbody>\n    <tr>\n      <th>0</th>\n      <td>2023-04-25T05:52:44.882Z</td>\n      <td>2004-02-01T00:00:00.000Z</td>\n      <td>e95bdc3748368f8aff7e6f14e84e38ef0cec38e8</td>\n      <td>{'gutenberg_metadata_available': True, 'issued...</td>\n      <td>gutenberg</td>\n      <td>LABOR'S MARTYRS\\n\\n\\nHaymarket\\n1887\\n\\nSacco ...</td>\n      <td>v0</td>\n    </tr>\n    <tr>\n      <th>1</th>\n      <td>2023-04-25T05:53:21.884Z</td>\n      <td>2004-02-01T00:00:00.000Z</td>\n      <td>02c98cf97f31cf4e42f9cf9ebba879bb847ac8e3</td>\n      <td>{'gutenberg_metadata_available': True, 'issued...</td>\n      <td>gutenberg</td>\n      <td>[Illustration: Front Cover]\\n\\n[Illustration]\\...</td>\n      <td>v0</td>\n    </tr>\n    <tr>\n      <th>2</th>\n      <td>2023-04-25T05:53:29.511Z</td>\n      <td>2004-02-01T00:00:00.000Z</td>\n      <td>042baa35a67a866347693ea501a82b1e252af646</td>\n      <td>{'gutenberg_metadata_available': True, 'issued...</td>\n      <td>gutenberg</td>\n      <td>THROUGH THE WALL\\n\\nBY\\n\\nCLEVELAND MOFFETT\\n\\...</td>\n      <td>v0</td>\n    </tr>\n    <tr>\n      <th>3</th>\n      <td>2023-04-25T05:54:10.370Z</td>\n      <td>2004-03-01T00:00:00.000Z</td>\n      <td>61f0f8af384163a4db1ba02f8b04f6a9a16aa9df</td>\n      <td>{'gutenberg_metadata_available': True, 'issued...</td>\n      <td>gutenberg</td>\n      <td>[Illustration]\\n\\n\\nSCIENTIFIC AMERICAN SUPPLE...</td>\n      <td>v0</td>\n    </tr>\n    <tr>\n      <th>4</th>\n      <td>2023-04-25T05:54:13.314Z</td>\n      <td>1998-02-01T00:00:00.000Z</td>\n      <td>e29fec239360b4cd0e4c3d599b4f035044759e5e</td>\n      <td>{'gutenberg_metadata_available': True, 'issued...</td>\n      <td>gutenberg</td>\n      <td>Transcribed from the 1897 John Lane edition by...</td>\n      <td>v0</td>\n    </tr>\n    <tr>\n      <th>...</th>\n      <td>...</td>\n      <td>...</td>\n      <td>...</td>\n      <td>...</td>\n      <td>...</td>\n      <td>...</td>\n      <td>...</td>\n    </tr>\n    <tr>\n      <th>141833</th>\n      <td>2023-04-05T08:53:30.999Z</td>\n      <td>2019-04-20T20:48:38Z</td>\n      <td>edf6b06ceb1870ba2c172d1941fc6ea0</td>\n      <td>{'lang': 'en', 'length': 258, 'provenance': 'c...</td>\n      <td>c4</td>\n      <td>Larry H. Miller Toyota is proud to serve the S...</td>\n      <td>v0</td>\n    </tr>\n    <tr>\n      <th>141834</th>\n      <td>2023-04-05T08:53:30.999Z</td>\n      <td>2019-04-20T18:46:40Z</td>\n      <td>a8ff306987d72bbe14238b98922a7314</td>\n      <td>{'lang': 'en', 'length': 243, 'provenance': 'c...</td>\n      <td>c4</td>\n      <td>Building options. Multiple options can be comb...</td>\n      <td>v0</td>\n    </tr>\n    <tr>\n      <th>141835</th>\n      <td>2023-04-05T08:53:30.999Z</td>\n      <td>2019-04-20T05:10:41Z</td>\n      <td>a014a16c293bd53b0f18a36e4b88556e</td>\n      <td>{'lang': 'en', 'length': 38, 'provenance': 'c4...</td>\n      <td>c4</td>\n      <td>Size of this preview: 800 × 520 pixels. Other ...</td>\n      <td>v0</td>\n    </tr>\n    <tr>\n      <th>141836</th>\n      <td>2023-04-05T08:53:30.999Z</td>\n      <td>2019-04-24T12:03:40Z</td>\n      <td>5c0333895103a64d76de2477bb05c986</td>\n      <td>{'lang': 'en', 'length': 52, 'provenance': 'c4...</td>\n      <td>c4</td>\n      <td>Jacopo - North Bondi,New South Wales : Graduat...</td>\n      <td>v0</td>\n    </tr>\n    <tr>\n      <th>141837</th>\n      <td>2023-04-05T08:53:30.999Z</td>\n      <td>2019-04-26T15:00:00Z</td>\n      <td>3b34c55ff285937295cca4cedbca8b35</td>\n      <td>{'lang': 'en', 'length': 145, 'provenance': 'c...</td>\n      <td>c4</td>\n      <td>We provide an exceptional catering experience ...</td>\n      <td>v0</td>\n    </tr>\n  </tbody>\n</table>\n<p>141838 rows × 7 columns</p>\n</div>"
     },
     "execution_count": 2,
     "metadata": {},
     "output_type": "execute_result"
    }
   ],
   "source": [
    "df"
   ],
   "metadata": {
    "collapsed": false,
    "ExecuteTime": {
     "end_time": "2024-03-28T13:49:09.044737Z",
     "start_time": "2024-03-28T13:49:09.030414Z"
    }
   },
   "id": "7bdcf7606bc314bc",
   "execution_count": 2
  },
  {
   "cell_type": "code",
   "outputs": [],
   "source": [
    "df_reduced = df.head(100)"
   ],
   "metadata": {
    "collapsed": false,
    "ExecuteTime": {
     "end_time": "2024-03-28T13:39:41.114748Z",
     "start_time": "2024-03-28T13:39:41.109689Z"
    }
   },
   "id": "b8e3d6ecffea3bf3",
   "execution_count": 3
  },
  {
   "cell_type": "code",
   "outputs": [],
   "source": [
    "df_reduced"
   ],
   "metadata": {
    "collapsed": false
   },
   "id": "5b91cc10374ef61c"
  },
  {
   "cell_type": "code",
   "outputs": [],
   "source": [
    "df['char_count'] = df['text'].str.len()"
   ],
   "metadata": {
    "collapsed": false
   },
   "id": "2c53775f137a2e6e"
  }
 ],
 "metadata": {
  "kernelspec": {
   "display_name": "Python 3",
   "language": "python",
   "name": "python3"
  },
  "language_info": {
   "codemirror_mode": {
    "name": "ipython",
    "version": 2
   },
   "file_extension": ".py",
   "mimetype": "text/x-python",
   "name": "python",
   "nbconvert_exporter": "python",
   "pygments_lexer": "ipython2",
   "version": "2.7.6"
  }
 },
 "nbformat": 4,
 "nbformat_minor": 5
}
